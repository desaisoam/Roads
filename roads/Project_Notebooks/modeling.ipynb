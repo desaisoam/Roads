{
 "cells": [
  {
   "cell_type": "code",
   "execution_count": 48,
   "metadata": {},
   "outputs": [],
   "source": [
    "# library importation\n",
    "from sklearn.feature_extraction.text import CountVectorizer, TfidfVectorizer\n",
    "import nltk\n",
    "from nltk.stem import WordNetLemmatizer\n",
    "from sklearn.linear_model import LogisticRegression\n",
    "from sklearn.model_selection import train_test_split, GridSearchCV, cross_val_score\n",
    "from sklearn.pipeline import Pipeline\n",
    "from sklearn.ensemble import RandomForestClassifier\n",
    "from sklearn.metrics import confusion_matrix, accuracy_score, roc_auc_score\n",
    "from sklearn.ensemble import GradientBoostingClassifier\n",
    "import pandas as pd\n",
    "import numpy as np\n",
    "from imblearn.over_sampling import SMOTE\n",
    "import warnings; warnings.simplefilter('ignore')\n",
    "import seaborn as sns\n",
    "import matplotlib.pyplot as plt\n",
    "import datetime\n",
    "from sklearn.feature_extraction import text\n",
    "import requests\n",
    "import string\n",
    "import re\n",
    "\n",
    "np.random.seed(42)"
   ]
  },
  {
   "cell_type": "code",
   "execution_count": 49,
   "metadata": {},
   "outputs": [],
   "source": [
    "#dataframe size\n",
    "pd.set_option('display.max_columns', 1000)\n",
    "pd.set_option('display.max_rows', 5000)"
   ]
  },
  {
   "cell_type": "code",
   "execution_count": 50,
   "metadata": {},
   "outputs": [],
   "source": [
    "# Old tweets data\n",
    "data = pd.read_csv ('C:\\\\Users\\\\desai\\\\Desktop\\\\roads\\\\Data\\\\historic_tweets_04212019.csv')"
   ]
  },
  {
   "cell_type": "markdown",
   "metadata": {},
   "source": [
    "### Data Cleaning"
   ]
  },
  {
   "cell_type": "code",
   "execution_count": 51,
   "metadata": {},
   "outputs": [],
   "source": [
    "# split date and time\n",
    "data['date'] = data['date'].map(lambda x: str(x.split('+')[0]))\n",
    "\n",
    "#datetime object conversion\n",
    "data['date'] = pd.to_datetime(data['date'])\n",
    "\n",
    "start_date = datetime.datetime(2018,9,10)\n",
    "end_date = datetime.datetime(2018,9,30)\n",
    "\n",
    "data = data[(data['date'] >= start_date) & (data['date'] < end_date)]"
   ]
  },
  {
   "cell_type": "code",
   "execution_count": 52,
   "metadata": {},
   "outputs": [],
   "source": [
    "# drop columns \n",
    "data.drop(columns = ['Unnamed: 0', 'geo', 'hashtags', 'id', 'type', 'username'], inplace=True)"
   ]
  },
  {
   "cell_type": "code",
   "execution_count": 53,
   "metadata": {},
   "outputs": [],
   "source": [
    "# drop rows\n",
    "data.dropna(subset=['text'], inplace=True) "
   ]
  },
  {
   "cell_type": "code",
   "execution_count": 54,
   "metadata": {},
   "outputs": [],
   "source": [
    "# Drop duplicates\n",
    "data.drop_duplicates(subset=['text'],inplace=True )"
   ]
  },
  {
   "cell_type": "markdown",
   "metadata": {},
   "source": [
    "### data Preparation for NLP model"
   ]
  },
  {
   "cell_type": "code",
   "execution_count": 55,
   "metadata": {},
   "outputs": [],
   "source": [
    "# lowercase words\n",
    "data['text'] = [i.lower() for i in data['text']]\n",
    "# Use Regular Expressions to remove references to indvidual accounts starting with @\n",
    "data['text'] = [re.sub(r'@[A-z0-9]*', r' ', i) \n",
    "                    for i in data['text']];\n",
    "# Use Regular Expressions to remove all punctuations \n",
    "data['text'] = [re.sub('[^A-Za-z0-9#]+', ' ', i) \n",
    "                    for i in data['text']];\n",
    "# Lemmatize the string and then join it back\n",
    "lm = WordNetLemmatizer()\n",
    "data['text'] = [\" \".join([lm.lemmatize(w) for w in i.split()]) \n",
    "                   for i in data['text']]"
   ]
  },
  {
   "cell_type": "markdown",
   "metadata": {},
   "source": [
    "### Identify road closures based on key words"
   ]
  },
  {
   "cell_type": "code",
   "execution_count": 56,
   "metadata": {},
   "outputs": [],
   "source": [
    "# Create a list of words to filter\n",
    "word_list1 = ['road', 'street','rd', 'hwy', 'highway', 'ave', 'avenue','intersection']\n",
    "word_list2 = ['closed','closure', 'blocked', 'flooded']\n",
    "not_word_list = ['lane closed', 'lane closure','cleared', 're opened', 'reopen']"
   ]
  },
  {
   "cell_type": "code",
   "execution_count": 57,
   "metadata": {},
   "outputs": [],
   "source": [
    "data['is_road_closure'] = data['text'].map(lambda x: 1 if ((any(word in x for word in word_list1))\n",
    "                                                           & (any(word in x for word in word_list2))\n",
    "                                                           & (not any(word in x for word in not_word_list))\n",
    "                                                          ) else 0)"
   ]
  },
  {
   "cell_type": "code",
   "execution_count": 58,
   "metadata": {},
   "outputs": [
    {
     "data": {
      "text/plain": [
       "0    7344\n",
       "1     349\n",
       "Name: is_road_closure, dtype: int64"
      ]
     },
     "execution_count": 58,
     "metadata": {},
     "output_type": "execute_result"
    }
   ],
   "source": [
    "data['is_road_closure'].value_counts()"
   ]
  },
  {
   "cell_type": "code",
   "execution_count": 59,
   "metadata": {},
   "outputs": [
    {
     "data": {
      "text/plain": [
       "(349, 3)"
      ]
     },
     "execution_count": 59,
     "metadata": {},
     "output_type": "execute_result"
    }
   ],
   "source": [
    "# Make new dataframe with only road closure tweets\n",
    "data_closures = data[data['is_road_closure'] == 1]\n",
    "data_closures.shape"
   ]
  },
  {
   "cell_type": "markdown",
   "metadata": {},
   "source": [
    "### Save clean data to csv file"
   ]
  },
  {
   "cell_type": "code",
   "execution_count": 18,
   "metadata": {},
   "outputs": [],
   "source": [
    "data_closures.to_csv('C:\\\\Users\\\\desai\\\\Desktop\\\\roads\\\\Data\\\\clean_roadclosure_tweets04252019pm.csv', header = True )"
   ]
  },
  {
   "cell_type": "code",
   "execution_count": 19,
   "metadata": {},
   "outputs": [],
   "source": [
    "data.to_csv('C:\\\\Users\\\\desai\\\\Desktop\\\\roads\\\\Data\\\\clean_hist_tweets04252019pm.csv', header = True )"
   ]
  },
  {
   "cell_type": "markdown",
   "metadata": {},
   "source": [
    "## Model Prep"
   ]
  },
  {
   "cell_type": "markdown",
   "metadata": {},
   "source": [
    "#### Create stop_words"
   ]
  },
  {
   "cell_type": "code",
   "execution_count": 19,
   "metadata": {},
   "outputs": [],
   "source": [
    "# Create stop_words list so we can add additional words if needed \n",
    "my_stop_words = list(text.ENGLISH_STOP_WORDS) + ['http','https', 'twitter',\n",
    "                                                       'com', 'pic', 'www', 'florence', 'florencenc',\n",
    "                                                       'hurricaneflorence','ly', 'gov', 'drivenc', 'scwx', 'wsoctv']"
   ]
  },
  {
   "cell_type": "markdown",
   "metadata": {},
   "source": [
    "#### Function to fit model using Pipeline and Gridsearch"
   ]
  },
  {
   "cell_type": "code",
   "execution_count": 20,
   "metadata": {},
   "outputs": [],
   "source": [
    "def model_fit_score(X, y,\n",
    "                    vect_name, vect_type=TfidfVectorizer(),\n",
    "                    model_name='Log_Reg',\n",
    "                    model_type=LogisticRegression(),\n",
    "                    parameters={}):\n",
    "\n",
    "    pipe = Pipeline([\n",
    "        (vect_name,vect_type),\n",
    "        (model_name, model_type)])\n",
    "    \n",
    "    # perform gridsearch\n",
    "    grid = GridSearchCV(pipe, param_grid=parameters, scoring='roc_auc', cv=3)\n",
    "    grid = grid.fit(X, y)\n",
    "\n",
    "    # Print best attributes\n",
    "    print(f\"For model: {model_name}\")\n",
    "    print(\"-\" * 40)\n",
    "    print(f\"The best parameters are: \\n {grid.best_params_}\")\n",
    "    print(\"-\" * 40)\n",
    "    print(f\"The best score is: \\n {grid.best_score_:.4f}\")\n",
    "    print(\"-\" * 40)\n",
    "    \n",
    "    return grid"
   ]
  },
  {
   "cell_type": "markdown",
   "metadata": {},
   "source": [
    "#### Function to generate confusion matrix"
   ]
  },
  {
   "cell_type": "code",
   "execution_count": 21,
   "metadata": {},
   "outputs": [],
   "source": [
    "# from Stack overflow\n",
    "def plot_confusion_matrix(cm, target_names, title='Confusion matrix', cmap=plt.cm.Blues):\n",
    "    \n",
    "    plt.imshow(cm, interpolation='nearest', cmap=cmap)\n",
    "    plt.title(title)\n",
    "    plt.colorbar()\n",
    "    \n",
    "    tick_marks = np.arange(len(target_names))\n",
    "    plt.xticks(tick_marks, target_names, rotation=45)\n",
    "    plt.yticks(tick_marks, target_names)\n",
    "    plt.tight_layout()\n",
    "\n",
    "    width, height = cm.shape\n",
    "\n",
    "    for x in range(width):\n",
    "        for y in range(height):\n",
    "            plt.annotate(str(cm[x][y]), xy=(y, x), \n",
    "                        horizontalalignment='center',\n",
    "                        verticalalignment='center')\n",
    "    plt.ylabel('True condition')\n",
    "    plt.xlabel('Predicted condition')"
   ]
  },
  {
   "cell_type": "markdown",
   "metadata": {},
   "source": [
    "#### Function to predict based on a text"
   ]
  },
  {
   "cell_type": "code",
   "execution_count": 22,
   "metadata": {},
   "outputs": [],
   "source": [
    "def Probaplot(string,class_1, class_0, model):\n",
    "    print_dict = {1:class_1,0:class_0}\n",
    "    df = pd.DataFrame(model.predict_proba([string]),columns= [class_0,class_1],index = [\"Probability\"]).T\n",
    "    f,ax = plt.subplots(figsize=(8,5))\n",
    "    sns.barplot(y = df[\"Probability\"],x=df.index,ax=ax)\n",
    "    plt.title(string,fontsize=20)"
   ]
  },
  {
   "cell_type": "markdown",
   "metadata": {},
   "source": [
    "#### Function to calculate sensitivity and specificity"
   ]
  },
  {
   "cell_type": "code",
   "execution_count": 23,
   "metadata": {},
   "outputs": [
    {
     "data": {
      "text/plain": [
       "<Figure size 720x504 with 0 Axes>"
      ]
     },
     "metadata": {},
     "output_type": "display_data"
    }
   ],
   "source": [
    "# Create figure.\n",
    "plt.figure(figsize = (10,7))\n",
    "\n",
    "# Create threshold values. (Dashed red line in image.)\n",
    "thresholds = np.linspace(0, 1, 200)\n",
    "\n",
    "# Define function to calculate sensitivity. (True positive rate.)\n",
    "def TPR(df, true_col, pred_prob_col, threshold):\n",
    "    true_positive = df[(df[true_col] == 1) & (df[pred_prob_col] >= threshold)].shape[0]\n",
    "    false_negative = df[(df[true_col] == 1) & (df[pred_prob_col] < threshold)].shape[0]\n",
    "    return true_positive / (true_positive + false_negative)\n",
    "    \n",
    "\n",
    "# Define function to calculate 1 - specificity. (False positive rate.)\n",
    "def FPR(df, true_col, pred_prob_col, threshold):\n",
    "    true_negative = df[(df[true_col] == 0) & (df[pred_prob_col] <= threshold)].shape[0]\n",
    "    false_positive = df[(df[true_col] == 0) & (df[pred_prob_col] > threshold)].shape[0]\n",
    "    return 1 - (true_negative / (true_negative + false_positive))"
   ]
  },
  {
   "cell_type": "markdown",
   "metadata": {},
   "source": [
    "#### Calculate Baseline Accuracy"
   ]
  },
  {
   "cell_type": "code",
   "execution_count": 24,
   "metadata": {},
   "outputs": [
    {
     "data": {
      "text/plain": [
       "0    7344\n",
       "1     349\n",
       "Name: is_road_closure, dtype: int64"
      ]
     },
     "execution_count": 24,
     "metadata": {},
     "output_type": "execute_result"
    }
   ],
   "source": [
    "data['is_road_closure'].value_counts()"
   ]
  },
  {
   "cell_type": "markdown",
   "metadata": {},
   "source": [
    "#### Perform train-test split on DATA "
   ]
  },
  {
   "cell_type": "code",
   "execution_count": 25,
   "metadata": {},
   "outputs": [],
   "source": [
    "# Define features, X, and y\n",
    "features = ['text']\n",
    "X = data[features]\n",
    "y = data['is_road_closure']"
   ]
  },
  {
   "cell_type": "code",
   "execution_count": 26,
   "metadata": {},
   "outputs": [],
   "source": [
    "# Perform train_test_split\n",
    "X_train, X_test, y_train, y_test = train_test_split(X,\n",
    "                                                    y,\n",
    "                                                    test_size=0.25,\n",
    "                                                    stratify=y)"
   ]
  },
  {
   "cell_type": "raw",
   "metadata": {},
   "source": [
    "# find optimal parameters\n",
    "params_vec = {\n",
    "    'vec__max_features': [200, 500, 1000],\n",
    "    'vec__min_df': [.01, .02],\n",
    "    'vec__max_df': [.8, .95],\n",
    "    'vec__ngram_range': [(1,2), (1,3), (1,4), (2,2), (2,3), (2,4)],\n",
    "    'vec__stop_words': [my_stop_words]}\n",
    "\n",
    "params_Log_Reg = {\n",
    "    'Log_Reg__penalty': ['l1', 'l2'],\n",
    "    'Log_Reg__C': [1.0]}\n",
    "    \n",
    "params_gb = {\n",
    "    'gb__learning_rate': [0.1, 0.2, 0.5],\n",
    "    'gb__n_estimators': [50, 100, 200, 500],\n",
    "    'gb__min_samples_split': [2, 3, 5],\n",
    "    'gb__min_samples_leaf': [1],\n",
    "    'gb__max_depth': [2, 3, 5]}"
   ]
  },
  {
   "cell_type": "code",
   "execution_count": 27,
   "metadata": {},
   "outputs": [],
   "source": [
    "# Hardcoding optimal parameters so the code runs faster\n",
    "params_vec = {\n",
    "    'vec__max_features': [200],\n",
    "    'vec__min_df': [.01],\n",
    "    'vec__max_df': [.8],\n",
    "    'vec__ngram_range': [(1,2)],\n",
    "    'vec__stop_words': [my_stop_words]}\n",
    "\n",
    "params_Log_Reg = {\n",
    "    'Log_Reg__penalty': ['l1'],\n",
    "    'Log_Reg__C': [1.0]}\n",
    "\n",
    "params_gb = {\n",
    "    'gb__learning_rate': [0.1],\n",
    "    'gb__n_estimators': [200],\n",
    "    'gb__max_depth': [5],\n",
    "    'gb__min_samples_leaf': [1],\n",
    "    'gb__min_samples_split': [2]}\n",
    "    \n",
    "params_sm = {\n",
    "    'sm__kind': 'regular',\n",
    "    'sm__sampling_strategy': [0.45],\n",
    "    'sm__k_neighbors': [6]}"
   ]
  },
  {
   "cell_type": "markdown",
   "metadata": {},
   "source": [
    "### Optimize Model 1: Logistic Regression, CountVectorizer"
   ]
  },
  {
   "cell_type": "code",
   "execution_count": 28,
   "metadata": {},
   "outputs": [
    {
     "name": "stdout",
     "output_type": "stream",
     "text": [
      "For model: Log_Reg\n",
      "----------------------------------------\n",
      "The best parameters are: \n",
      " {'Log_Reg__C': 1.0, 'Log_Reg__penalty': 'l1', 'vec__max_df': 0.8, 'vec__max_features': 200, 'vec__min_df': 0.01, 'vec__ngram_range': (1, 2), 'vec__stop_words': ['latterly', 'their', 'elsewhere', 'besides', 'seem', 'become', 'move', 'what', 'whoever', 'be', 'next', 'were', 'without', 'eg', 'keep', 'see', 'wherever', 'fifty', 'with', 'throughout', 'least', 'about', 'above', 'mine', 'at', 'there', 'therein', 'seems', 'done', 'serious', 'thick', 'whether', 'nobody', 'while', 'may', 'forty', 'four', 'wherein', 'already', 'are', 'and', 'enough', 'can', 'we', 'herein', 'is', 'do', 'those', 'whereupon', 'etc', 'other', 'she', 'take', 'here', 'hereby', 'as', 'now', 'give', 'because', 'whom', 'thereby', 'seemed', 'whole', 'front', 'cry', 'indeed', 'yourself', 'through', 'mill', 'back', 'within', 'namely', 'before', 'whence', 'whenever', 'some', 'by', 'where', 'my', 'part', 'yet', 'why', 'system', 'no', 'twenty', 'ltd', 'yours', 'out', 'beforehand', 'moreover', 'found', 'often', 'couldnt', 'own', 'into', 'somehow', 'this', 'our', 'third', 'whereas', 'hers', 'almost', 'hence', 'me', 'than', 'less', 'two', 'among', 'rather', 'bill', 'please', 'first', 'interest', 'empty', 'anywhere', 'never', 'mostly', 'perhaps', 'many', 'him', 'ourselves', 'several', 'put', 'alone', 'nowhere', 'same', 'down', 'the', 'against', 'amongst', 'when', 'beyond', 'thereafter', 'noone', 'which', 'much', 'sometimes', 'de', 'too', 'last', 'they', 'everyone', 'inc', 'his', 'became', 'around', 'twelve', 'such', 'upon', 'ie', 'thereupon', 'whose', 'amount', 'over', 'find', 'becomes', 'therefore', 'themselves', 'very', 'un', 'few', 'anyone', 'most', 'below', 'not', 'sometime', 'hereupon', 'something', 'fifteen', 'thus', 'due', 'except', 'it', 'however', 'again', 'nothing', 'only', 'six', 'must', 'whereafter', 'describe', 'would', 'anything', 'three', 'will', 'thence', 'under', 'nor', 'hereafter', 'made', 'to', 'onto', 'i', 'each', 'another', 'how', 'either', 'has', 'could', 'sixty', 'fire', 'someone', 'both', 'bottom', 'side', 'yourselves', 'or', 'am', 'former', 'via', 'eleven', 'well', 'top', 'who', 'from', 'myself', 'together', 'thru', 'formerly', 'herself', 'so', 'after', 'been', 'one', 'should', 'anyway', 'whatever', 'up', 'others', 'hundred', 'its', 'if', 'in', 'nevertheless', 'you', 'cant', 'still', 'thin', 'otherwise', 'since', 'always', 'ours', 'meanwhile', 'your', 'was', 'of', 'fill', 'anyhow', 'co', 'until', 'an', 'full', 'that', 'everywhere', 'even', 'amoungst', 'any', 'between', 'all', 'also', 'ever', 'hasnt', 'seeming', 'though', 're', 'might', 'everything', 'toward', 'cannot', 'get', 'whereby', 'call', 'every', 'name', 'himself', 'towards', 'once', 'being', 'during', 'becoming', 'along', 'con', 'whither', 'afterwards', 'none', 'but', 'further', 'eight', 'five', 'latter', 'these', 'neither', 'somewhere', 'go', 'off', 'beside', 'them', 'he', 'nine', 'per', 'us', 'more', 'although', 'else', 'then', 'detail', 'behind', 'across', 'had', 'a', 'itself', 'sincere', 'have', 'ten', 'her', 'on', 'show', 'for', 'http', 'https', 'twitter', 'com', 'pic', 'www', 'florence', 'florencenc', 'hurricaneflorence', 'ly', 'gov', 'drivenc', 'scwx', 'wsoctv']}\n",
      "----------------------------------------\n",
      "The best score is: \n",
      " 0.9786\n",
      "----------------------------------------\n",
      "Train set Score: \n",
      " 0.9870130590213427\n",
      "Test set Score: \n",
      " 0.9780126267840494\n"
     ]
    }
   ],
   "source": [
    "# Call function to fit the model\n",
    "Log_Reg_cvec = model_fit_score(X_train['text'], y_train,         \n",
    "                vect_name = 'vec',\n",
    "                vect_type = CountVectorizer(),               \n",
    "                model_name ='Log_Reg',          \n",
    "                model_type = LogisticRegression(solver = \"liblinear\",penalty = \"l1\"),\n",
    "                parameters = {**params_vec, **params_Log_Reg})\n",
    "\n",
    "# Print Training and Test scores \n",
    "print(f\"Train set Score: \\n {Log_Reg_cvec.score(X_train['text'], y_train)}\")\n",
    "print(f\"Test set Score: \\n {Log_Reg_cvec.score(X_test['text'], y_test)}\")"
   ]
  },
  {
   "cell_type": "markdown",
   "metadata": {},
   "source": [
    "### Optimize Model 2: Logistic Regression, TfidfVectorizer"
   ]
  },
  {
   "cell_type": "code",
   "execution_count": 29,
   "metadata": {},
   "outputs": [
    {
     "name": "stdout",
     "output_type": "stream",
     "text": [
      "For model: Log_Reg\n",
      "----------------------------------------\n",
      "The best parameters are: \n",
      " {'Log_Reg__C': 1.0, 'Log_Reg__penalty': 'l1', 'vec__max_df': 0.8, 'vec__max_features': 200, 'vec__min_df': 0.01, 'vec__ngram_range': (1, 2), 'vec__stop_words': ['latterly', 'their', 'elsewhere', 'besides', 'seem', 'become', 'move', 'what', 'whoever', 'be', 'next', 'were', 'without', 'eg', 'keep', 'see', 'wherever', 'fifty', 'with', 'throughout', 'least', 'about', 'above', 'mine', 'at', 'there', 'therein', 'seems', 'done', 'serious', 'thick', 'whether', 'nobody', 'while', 'may', 'forty', 'four', 'wherein', 'already', 'are', 'and', 'enough', 'can', 'we', 'herein', 'is', 'do', 'those', 'whereupon', 'etc', 'other', 'she', 'take', 'here', 'hereby', 'as', 'now', 'give', 'because', 'whom', 'thereby', 'seemed', 'whole', 'front', 'cry', 'indeed', 'yourself', 'through', 'mill', 'back', 'within', 'namely', 'before', 'whence', 'whenever', 'some', 'by', 'where', 'my', 'part', 'yet', 'why', 'system', 'no', 'twenty', 'ltd', 'yours', 'out', 'beforehand', 'moreover', 'found', 'often', 'couldnt', 'own', 'into', 'somehow', 'this', 'our', 'third', 'whereas', 'hers', 'almost', 'hence', 'me', 'than', 'less', 'two', 'among', 'rather', 'bill', 'please', 'first', 'interest', 'empty', 'anywhere', 'never', 'mostly', 'perhaps', 'many', 'him', 'ourselves', 'several', 'put', 'alone', 'nowhere', 'same', 'down', 'the', 'against', 'amongst', 'when', 'beyond', 'thereafter', 'noone', 'which', 'much', 'sometimes', 'de', 'too', 'last', 'they', 'everyone', 'inc', 'his', 'became', 'around', 'twelve', 'such', 'upon', 'ie', 'thereupon', 'whose', 'amount', 'over', 'find', 'becomes', 'therefore', 'themselves', 'very', 'un', 'few', 'anyone', 'most', 'below', 'not', 'sometime', 'hereupon', 'something', 'fifteen', 'thus', 'due', 'except', 'it', 'however', 'again', 'nothing', 'only', 'six', 'must', 'whereafter', 'describe', 'would', 'anything', 'three', 'will', 'thence', 'under', 'nor', 'hereafter', 'made', 'to', 'onto', 'i', 'each', 'another', 'how', 'either', 'has', 'could', 'sixty', 'fire', 'someone', 'both', 'bottom', 'side', 'yourselves', 'or', 'am', 'former', 'via', 'eleven', 'well', 'top', 'who', 'from', 'myself', 'together', 'thru', 'formerly', 'herself', 'so', 'after', 'been', 'one', 'should', 'anyway', 'whatever', 'up', 'others', 'hundred', 'its', 'if', 'in', 'nevertheless', 'you', 'cant', 'still', 'thin', 'otherwise', 'since', 'always', 'ours', 'meanwhile', 'your', 'was', 'of', 'fill', 'anyhow', 'co', 'until', 'an', 'full', 'that', 'everywhere', 'even', 'amoungst', 'any', 'between', 'all', 'also', 'ever', 'hasnt', 'seeming', 'though', 're', 'might', 'everything', 'toward', 'cannot', 'get', 'whereby', 'call', 'every', 'name', 'himself', 'towards', 'once', 'being', 'during', 'becoming', 'along', 'con', 'whither', 'afterwards', 'none', 'but', 'further', 'eight', 'five', 'latter', 'these', 'neither', 'somewhere', 'go', 'off', 'beside', 'them', 'he', 'nine', 'per', 'us', 'more', 'although', 'else', 'then', 'detail', 'behind', 'across', 'had', 'a', 'itself', 'sincere', 'have', 'ten', 'her', 'on', 'show', 'for', 'http', 'https', 'twitter', 'com', 'pic', 'www', 'florence', 'florencenc', 'hurricaneflorence', 'ly', 'gov', 'drivenc', 'scwx', 'wsoctv']}\n",
      "----------------------------------------\n",
      "The best score is: \n",
      " 0.9812\n",
      "----------------------------------------\n",
      "Train set Score: \n",
      " 0.9847262401634559\n",
      "Test set Score: \n",
      " 0.9783035809259225\n"
     ]
    }
   ],
   "source": [
    "# Call function to fit the model\n",
    "Log_Reg_tvec = model_fit_score(X_train['text'], y_train,         \n",
    "                vect_name = 'vec',\n",
    "                vect_type = TfidfVectorizer(),               \n",
    "                model_name ='Log_Reg',          \n",
    "                model_type = LogisticRegression(solver = \"liblinear\",penalty = \"l1\"),\n",
    "                parameters = {**params_vec, **params_Log_Reg})\n",
    "\n",
    "# Print Training and Test scores \n",
    "print(f\"Train set Score: \\n {Log_Reg_tvec.score(X_train['text'], y_train)}\")\n",
    "print(f\"Test set Score: \\n {Log_Reg_tvec.score(X_test['text'], y_test)}\")"
   ]
  },
  {
   "cell_type": "markdown",
   "metadata": {},
   "source": [
    "#### Print confusion matrix"
   ]
  },
  {
   "cell_type": "code",
   "execution_count": 30,
   "metadata": {},
   "outputs": [
    {
     "name": "stdout",
     "output_type": "stream",
     "text": [
      "ROC AUC score: 0.806806449796332\n"
     ]
    },
    {
     "data": {
      "image/png": "[encoded data removed]",
      "text/plain": [
       "<Figure size 432x288 with 2 Axes>"
      ]
     },
     "metadata": {
      "needs_background": "light"
     },
     "output_type": "display_data"
    }
   ],
   "source": [
    "model_name = Log_Reg_tvec\n",
    "\n",
    "# Generate predictions\n",
    "y_pred = (model_name.predict(X_test['text'])) \n",
    "y_test.shape\n",
    "y_pred.shape\n",
    "\n",
    "# Calculate ROC AUC and Accuracy scores\n",
    "print(f\"ROC AUC score: {roc_auc_score(y_test, y_pred)}\")\n",
    "\n",
    "# # Plot confusion matrix\n",
    "plt.figure()\n",
    "cm = confusion_matrix(y_test, y_pred)\n",
    "plot_confusion_matrix(cm, ['not_road_closure','is_road_closure']);\n"
   ]
  },
  {
   "cell_type": "markdown",
   "metadata": {},
   "source": [
    "#### Plot ROC AUC curve"
   ]
  },
  {
   "cell_type": "code",
   "execution_count": 31,
   "metadata": {},
   "outputs": [
    {
     "data": {
      "image/png": "[encoded data removed]",
      "text/plain": [
       "<Figure size 432x288 with 1 Axes>"
      ]
     },
     "metadata": {
      "needs_background": "light"
     },
     "output_type": "display_data"
    }
   ],
   "source": [
    "# calculate predicted probabilities\n",
    "pred_proba = [i[1] for i in Log_Reg_tvec.predict_proba(X_test['text'])]\n",
    "\n",
    "pred_df = pd.DataFrame({'true_values': y_test,\n",
    "                        'pred_probs':pred_proba})\n",
    "    \n",
    "# Calculate sensitivity & 1-specificity for each threshold between 0 and 1.\n",
    "tpr_values = [TPR(pred_df, 'true_values', 'pred_probs', prob) for prob in thresholds]\n",
    "fpr_values = [FPR(pred_df, 'true_values', 'pred_probs', prob) for prob in thresholds]\n",
    "\n",
    "# Plot ROC curve.\n",
    "plt.plot(fpr_values, # False Positive Rate on X-axis\n",
    "         tpr_values, # True Positive Rate on Y-axis\n",
    "         label='ROC Curve')\n",
    "\n",
    "# Plot baseline. (Perfect overlap between the two populations.)\n",
    "plt.plot(np.linspace(0, 1, 200),\n",
    "         np.linspace(0, 1, 200),\n",
    "         label='baseline',\n",
    "         linestyle='--')\n",
    "\n",
    "# Label axes.\n",
    "# plt.title(f'ROC Curve with AUC = {round(roc_auc_score(pred_df['true_values'], pred_df['pred_probs']),3)}', fontsize=22)\n",
    "plt.ylabel('Sensitivity', fontsize=18) \n",
    "#true negative rate\n",
    "plt.xlabel('1 - Specificity', fontsize=18)\n",
    "#true positive rate\n",
    "\n",
    "# Create legend.\n",
    "plt.legend(fontsize=16);"
   ]
  },
  {
   "cell_type": "markdown",
   "metadata": {},
   "source": [
    "### Optimize Model 3: Gradient Boosting, CountVectorizer"
   ]
  },
  {
   "cell_type": "code",
   "execution_count": 32,
   "metadata": {},
   "outputs": [
    {
     "name": "stdout",
     "output_type": "stream",
     "text": [
      "For model: gb\n",
      "----------------------------------------\n",
      "The best parameters are: \n",
      " {'gb__learning_rate': 0.1, 'gb__max_depth': 5, 'gb__min_samples_leaf': 1, 'gb__min_samples_split': 2, 'gb__n_estimators': 200, 'vec__max_df': 0.8, 'vec__max_features': 200, 'vec__min_df': 0.01, 'vec__ngram_range': (1, 2), 'vec__stop_words': ['latterly', 'their', 'elsewhere', 'besides', 'seem', 'become', 'move', 'what', 'whoever', 'be', 'next', 'were', 'without', 'eg', 'keep', 'see', 'wherever', 'fifty', 'with', 'throughout', 'least', 'about', 'above', 'mine', 'at', 'there', 'therein', 'seems', 'done', 'serious', 'thick', 'whether', 'nobody', 'while', 'may', 'forty', 'four', 'wherein', 'already', 'are', 'and', 'enough', 'can', 'we', 'herein', 'is', 'do', 'those', 'whereupon', 'etc', 'other', 'she', 'take', 'here', 'hereby', 'as', 'now', 'give', 'because', 'whom', 'thereby', 'seemed', 'whole', 'front', 'cry', 'indeed', 'yourself', 'through', 'mill', 'back', 'within', 'namely', 'before', 'whence', 'whenever', 'some', 'by', 'where', 'my', 'part', 'yet', 'why', 'system', 'no', 'twenty', 'ltd', 'yours', 'out', 'beforehand', 'moreover', 'found', 'often', 'couldnt', 'own', 'into', 'somehow', 'this', 'our', 'third', 'whereas', 'hers', 'almost', 'hence', 'me', 'than', 'less', 'two', 'among', 'rather', 'bill', 'please', 'first', 'interest', 'empty', 'anywhere', 'never', 'mostly', 'perhaps', 'many', 'him', 'ourselves', 'several', 'put', 'alone', 'nowhere', 'same', 'down', 'the', 'against', 'amongst', 'when', 'beyond', 'thereafter', 'noone', 'which', 'much', 'sometimes', 'de', 'too', 'last', 'they', 'everyone', 'inc', 'his', 'became', 'around', 'twelve', 'such', 'upon', 'ie', 'thereupon', 'whose', 'amount', 'over', 'find', 'becomes', 'therefore', 'themselves', 'very', 'un', 'few', 'anyone', 'most', 'below', 'not', 'sometime', 'hereupon', 'something', 'fifteen', 'thus', 'due', 'except', 'it', 'however', 'again', 'nothing', 'only', 'six', 'must', 'whereafter', 'describe', 'would', 'anything', 'three', 'will', 'thence', 'under', 'nor', 'hereafter', 'made', 'to', 'onto', 'i', 'each', 'another', 'how', 'either', 'has', 'could', 'sixty', 'fire', 'someone', 'both', 'bottom', 'side', 'yourselves', 'or', 'am', 'former', 'via', 'eleven', 'well', 'top', 'who', 'from', 'myself', 'together', 'thru', 'formerly', 'herself', 'so', 'after', 'been', 'one', 'should', 'anyway', 'whatever', 'up', 'others', 'hundred', 'its', 'if', 'in', 'nevertheless', 'you', 'cant', 'still', 'thin', 'otherwise', 'since', 'always', 'ours', 'meanwhile', 'your', 'was', 'of', 'fill', 'anyhow', 'co', 'until', 'an', 'full', 'that', 'everywhere', 'even', 'amoungst', 'any', 'between', 'all', 'also', 'ever', 'hasnt', 'seeming', 'though', 're', 'might', 'everything', 'toward', 'cannot', 'get', 'whereby', 'call', 'every', 'name', 'himself', 'towards', 'once', 'being', 'during', 'becoming', 'along', 'con', 'whither', 'afterwards', 'none', 'but', 'further', 'eight', 'five', 'latter', 'these', 'neither', 'somewhere', 'go', 'off', 'beside', 'them', 'he', 'nine', 'per', 'us', 'more', 'although', 'else', 'then', 'detail', 'behind', 'across', 'had', 'a', 'itself', 'sincere', 'have', 'ten', 'her', 'on', 'show', 'for', 'http', 'https', 'twitter', 'com', 'pic', 'www', 'florence', 'florencenc', 'hurricaneflorence', 'ly', 'gov', 'drivenc', 'scwx', 'wsoctv']}\n",
      "----------------------------------------\n",
      "The best score is: \n",
      " 0.9893\n",
      "----------------------------------------\n",
      "Train set Score: \n",
      " 0.9993966734911985\n",
      "Test set Score: \n",
      " 0.9865785670039233\n"
     ]
    }
   ],
   "source": [
    "# Call function to fit the model\n",
    "gb_cvec = model_fit_score(X_train['text'], y_train,         \n",
    "                vect_name = 'vec',\n",
    "                vect_type = CountVectorizer(),               \n",
    "                model_name ='gb',          \n",
    "                model_type = GradientBoostingClassifier(),\n",
    "                parameters = {**params_vec, **params_gb})\n",
    "\n",
    "# Print Training and Test scores \n",
    "print(f\"Train set Score: \\n {gb_cvec.score(X_train['text'], y_train)}\")\n",
    "print(f\"Test set Score: \\n {gb_cvec.score(X_test['text'], y_test)}\")"
   ]
  },
  {
   "cell_type": "markdown",
   "metadata": {},
   "source": [
    "### Optimize Model 4: Gradient Boosting, TfidfVectorizer"
   ]
  },
  {
   "cell_type": "code",
   "execution_count": 33,
   "metadata": {},
   "outputs": [
    {
     "name": "stdout",
     "output_type": "stream",
     "text": [
      "For model: gb\n",
      "----------------------------------------\n",
      "The best parameters are: \n",
      " {'gb__learning_rate': 0.1, 'gb__max_depth': 5, 'gb__min_samples_leaf': 1, 'gb__min_samples_split': 2, 'gb__n_estimators': 200, 'vec__max_df': 0.8, 'vec__max_features': 200, 'vec__min_df': 0.01, 'vec__ngram_range': (1, 2), 'vec__stop_words': ['latterly', 'their', 'elsewhere', 'besides', 'seem', 'become', 'move', 'what', 'whoever', 'be', 'next', 'were', 'without', 'eg', 'keep', 'see', 'wherever', 'fifty', 'with', 'throughout', 'least', 'about', 'above', 'mine', 'at', 'there', 'therein', 'seems', 'done', 'serious', 'thick', 'whether', 'nobody', 'while', 'may', 'forty', 'four', 'wherein', 'already', 'are', 'and', 'enough', 'can', 'we', 'herein', 'is', 'do', 'those', 'whereupon', 'etc', 'other', 'she', 'take', 'here', 'hereby', 'as', 'now', 'give', 'because', 'whom', 'thereby', 'seemed', 'whole', 'front', 'cry', 'indeed', 'yourself', 'through', 'mill', 'back', 'within', 'namely', 'before', 'whence', 'whenever', 'some', 'by', 'where', 'my', 'part', 'yet', 'why', 'system', 'no', 'twenty', 'ltd', 'yours', 'out', 'beforehand', 'moreover', 'found', 'often', 'couldnt', 'own', 'into', 'somehow', 'this', 'our', 'third', 'whereas', 'hers', 'almost', 'hence', 'me', 'than', 'less', 'two', 'among', 'rather', 'bill', 'please', 'first', 'interest', 'empty', 'anywhere', 'never', 'mostly', 'perhaps', 'many', 'him', 'ourselves', 'several', 'put', 'alone', 'nowhere', 'same', 'down', 'the', 'against', 'amongst', 'when', 'beyond', 'thereafter', 'noone', 'which', 'much', 'sometimes', 'de', 'too', 'last', 'they', 'everyone', 'inc', 'his', 'became', 'around', 'twelve', 'such', 'upon', 'ie', 'thereupon', 'whose', 'amount', 'over', 'find', 'becomes', 'therefore', 'themselves', 'very', 'un', 'few', 'anyone', 'most', 'below', 'not', 'sometime', 'hereupon', 'something', 'fifteen', 'thus', 'due', 'except', 'it', 'however', 'again', 'nothing', 'only', 'six', 'must', 'whereafter', 'describe', 'would', 'anything', 'three', 'will', 'thence', 'under', 'nor', 'hereafter', 'made', 'to', 'onto', 'i', 'each', 'another', 'how', 'either', 'has', 'could', 'sixty', 'fire', 'someone', 'both', 'bottom', 'side', 'yourselves', 'or', 'am', 'former', 'via', 'eleven', 'well', 'top', 'who', 'from', 'myself', 'together', 'thru', 'formerly', 'herself', 'so', 'after', 'been', 'one', 'should', 'anyway', 'whatever', 'up', 'others', 'hundred', 'its', 'if', 'in', 'nevertheless', 'you', 'cant', 'still', 'thin', 'otherwise', 'since', 'always', 'ours', 'meanwhile', 'your', 'was', 'of', 'fill', 'anyhow', 'co', 'until', 'an', 'full', 'that', 'everywhere', 'even', 'amoungst', 'any', 'between', 'all', 'also', 'ever', 'hasnt', 'seeming', 'though', 're', 'might', 'everything', 'toward', 'cannot', 'get', 'whereby', 'call', 'every', 'name', 'himself', 'towards', 'once', 'being', 'during', 'becoming', 'along', 'con', 'whither', 'afterwards', 'none', 'but', 'further', 'eight', 'five', 'latter', 'these', 'neither', 'somewhere', 'go', 'off', 'beside', 'them', 'he', 'nine', 'per', 'us', 'more', 'although', 'else', 'then', 'detail', 'behind', 'across', 'had', 'a', 'itself', 'sincere', 'have', 'ten', 'her', 'on', 'show', 'for', 'http', 'https', 'twitter', 'com', 'pic', 'www', 'florence', 'florencenc', 'hurricaneflorence', 'ly', 'gov', 'drivenc', 'scwx', 'wsoctv']}\n",
      "----------------------------------------\n",
      "The best score is: \n",
      " 0.9858\n",
      "----------------------------------------\n",
      "Train set Score: \n",
      " 0.9998852951898833\n",
      "Test set Score: \n",
      " 0.986537895994844\n"
     ]
    }
   ],
   "source": [
    "# Call function to fit the model\n",
    "gb_tvec = model_fit_score(X_train['text'], y_train,         \n",
    "                vect_name = 'vec',\n",
    "                vect_type = TfidfVectorizer(),               \n",
    "                model_name ='gb',          \n",
    "                model_type = GradientBoostingClassifier(),\n",
    "                parameters = {**params_vec, **params_gb})\n",
    "\n",
    "# Print Training and Test scores \n",
    "print(f\"Train set Score: \\n {gb_tvec.score(X_train['text'], y_train)}\")\n",
    "print(f\"Test set Score: \\n {gb_tvec.score(X_test['text'], y_test)}\")"
   ]
  },
  {
   "cell_type": "markdown",
   "metadata": {},
   "source": [
    "#### Print confusion matrix"
   ]
  },
  {
   "cell_type": "code",
   "execution_count": 34,
   "metadata": {},
   "outputs": [
    {
     "name": "stdout",
     "output_type": "stream",
     "text": [
      "ROC AUC score: 0.806806449796332\n"
     ]
    },
    {
     "data": {
      "text/plain": [
       "<Figure size 432x288 with 0 Axes>"
      ]
     },
     "metadata": {},
     "output_type": "display_data"
    },
    {
     "data": {
      "image/png": "[encoded data removed]",
      "text/plain": [
       "<Figure size 360x360 with 2 Axes>"
      ]
     },
     "metadata": {
      "needs_background": "light"
     },
     "output_type": "display_data"
    }
   ],
   "source": [
    "model_name = Log_Reg_tvec\n",
    "\n",
    "# Generate predictions\n",
    "y_pred = (model_name.predict(X_test['text'])) \n",
    "y_test.shape\n",
    "y_pred.shape\n",
    "\n",
    "# Calculate ROC AUC and Accuracy scores\n",
    "print(f\"ROC AUC score: {roc_auc_score(y_test, y_pred)}\")\n",
    "\n",
    "# # Plot confusion matrix\n",
    "plt.figure()\n",
    "\n",
    "cm = confusion_matrix(y_test, y_pred)\n",
    "fig, ax = plt.subplots(figsize=(5, 5))\n",
    "plot_confusion_matrix(cm, ['not a road closure','is a road closure'],ax);\n",
    "\n",
    "\n",
    "ax = plt.subplot()\n",
    "sns.set(font_scale=3.0) # Adjust to fit\n",
    "sns.heatmap(cm, annot=True, ax=ax, cmap=\"Blues\", fmt=\"g\");  \n",
    "\n",
    "# Labels, title and ticks\n",
    "label_font = {'size':'20'}  # Adjust to fit\n",
    "ax.set_xlabel('Predicted labels', fontdict=label_font);\n",
    "ax.set_ylabel('Observed labels', fontdict=label_font);\n",
    "\n",
    "title_font = {'size':'20'}  # Adjust to fit\n",
    "ax.set_title('Confusion Matrix', fontdict=title_font);\n",
    "\n",
    "ax.tick_params(axis='both', which='major', labelsize=15)  # Adjust to fit\n",
    "ax.xaxis.set_ticklabels(['Road Closed', 'Road Not Closed']);\n",
    "ax.yaxis.set_ticklabels(['Road Closed', 'Road Not Closed']);\n",
    "plt.show()\n"
   ]
  },
  {
   "cell_type": "markdown",
   "metadata": {},
   "source": [
    "#### Plot ROC AUC curve"
   ]
  },
  {
   "cell_type": "code",
   "execution_count": 35,
   "metadata": {},
   "outputs": [
    {
     "data": {
      "image/png": "[encoded data removed]",
      "text/plain": [
       "<Figure size 432x288 with 1 Axes>"
      ]
     },
     "metadata": {},
     "output_type": "display_data"
    }
   ],
   "source": [
    "# calculate predicted probabilities\n",
    "pred_proba = [i[1] for i in gb_tvec.predict_proba(X_test['text'])]\n",
    "\n",
    "pred_df = pd.DataFrame({'true_values': y_test,\n",
    "                        'pred_probs':pred_proba})\n",
    "    \n",
    "# Calculate sensitivity & 1-specificity for each threshold between 0 and 1.\n",
    "tpr_values = [TPR(pred_df, 'true_values', 'pred_probs', prob) for prob in thresholds]\n",
    "fpr_values = [FPR(pred_df, 'true_values', 'pred_probs', prob) for prob in thresholds]\n",
    "\n",
    "# Plot ROC curve.\n",
    "plt.plot(fpr_values, # False Positive Rate on X-axis\n",
    "         tpr_values, # True Positive Rate on Y-axis\n",
    "         label='ROC Curve')\n",
    "\n",
    "# Plot baseline. (Perfect overlap between the two populations.)\n",
    "plt.plot(np.linspace(0, 1, 200),\n",
    "         np.linspace(0, 1, 200),\n",
    "         label='baseline',\n",
    "         linestyle='--')\n",
    "\n",
    "# Label axes.\n",
    "# plt.title(f'ROC Curve with AUC = {round(roc_auc_score(pred_df['true_values'], pred_df['pred_probs']),3)}', fontsize=22)\n",
    "plt.ylabel('Sensitivity', fontsize=18)\n",
    "plt.xlabel('1 - Specificity', fontsize=18)\n",
    "\n",
    "# Create legend.\n",
    "plt.legend(fontsize=16);"
   ]
  },
  {
   "cell_type": "markdown",
   "metadata": {},
   "source": [
    "## Predict, evaluate, and score the best model"
   ]
  },
  {
   "cell_type": "markdown",
   "metadata": {},
   "source": [
    "### Apply SMOTE to the best model - , GradientBoosting, Tfidf Vectorizer"
   ]
  },
  {
   "cell_type": "code",
   "execution_count": 36,
   "metadata": {},
   "outputs": [
    {
     "name": "stdout",
     "output_type": "stream",
     "text": [
      "Before OverSampling, counts of label '1': 262\n",
      "Before OverSampling, counts of label '0': 5507 \n",
      "\n"
     ]
    }
   ],
   "source": [
    "# from https://www.kaggle.com/qianchao/smote-with-imbalance-data    \n",
    "print(\"Before OverSampling, counts of label '1': {}\".format(sum(y_train==1)))\n",
    "print(\"Before OverSampling, counts of label '0': {} \\n\".format(sum(y_train==0)))"
   ]
  },
  {
   "cell_type": "code",
   "execution_count": 37,
   "metadata": {},
   "outputs": [],
   "source": [
    "# Instantiate TfidfVectorizer\n",
    "tvec = TfidfVectorizer(stop_words=my_stop_words, ngram_range=(1,2), max_features=5_000)   \n",
    "\n",
    "gb_Smote =GradientBoostingClassifier(\n",
    "                        learning_rate=0.1, max_depth=3, min_samples_leaf=1,\n",
    "                        min_samples_split=2, n_estimators=100)\n",
    "\n",
    "sm = SMOTE(sampling_strategy=0.9, k_neighbors=7)"
   ]
  },
  {
   "cell_type": "code",
   "execution_count": 38,
   "metadata": {},
   "outputs": [],
   "source": [
    "#1 Fit and transform Count Vectorizer\n",
    "tvec_words = pd.DataFrame(tvec.fit_transform(X_train['text']).toarray(), columns=tvec.get_feature_names())"
   ]
  },
  {
   "cell_type": "code",
   "execution_count": 39,
   "metadata": {},
   "outputs": [],
   "source": [
    "#2 Fit SMOTE\n",
    "X_train_res, y_train_res = sm.fit_sample(tvec_words, y_train.ravel())\n",
    "# X_train_res, y_train_res = sm.fit_sample(tvec_words, y_train.ravel())"
   ]
  },
  {
   "cell_type": "code",
   "execution_count": 40,
   "metadata": {
    "scrolled": true
   },
   "outputs": [
    {
     "data": {
      "text/plain": [
       "(10463, 5000)"
      ]
     },
     "execution_count": 40,
     "metadata": {},
     "output_type": "execute_result"
    }
   ],
   "source": [
    "X_train_res.shape"
   ]
  },
  {
   "cell_type": "code",
   "execution_count": 41,
   "metadata": {},
   "outputs": [
    {
     "data": {
      "text/plain": [
       "10463"
      ]
     },
     "execution_count": 41,
     "metadata": {},
     "output_type": "execute_result"
    }
   ],
   "source": [
    "len(y_train_res)"
   ]
  },
  {
   "cell_type": "code",
   "execution_count": 42,
   "metadata": {},
   "outputs": [
    {
     "data": {
      "text/plain": [
       "GradientBoostingClassifier()"
      ]
     },
     "execution_count": 42,
     "metadata": {},
     "output_type": "execute_result"
    }
   ],
   "source": [
    "#3 Fit Gradient Boosting\n",
    "gb_Smote.fit(X_train_res, y_train_res)"
   ]
  },
  {
   "cell_type": "code",
   "execution_count": 90,
   "metadata": {},
   "outputs": [],
   "source": [
    "#export final tvec and gb model using pickle\n",
    "import pickle\n",
    "filename = 'C:\\\\Users\\\\desai\\\\Desktop\\\\roads\\\\Project_Notebooks\\\\gb_model.sav'\n",
    "pickle.dump(gb_Smote, open(filename, 'wb'))"
   ]
  },
  {
   "cell_type": "code",
   "execution_count": 92,
   "metadata": {},
   "outputs": [],
   "source": [
    "filename = 'C:\\\\Users\\\\desai\\\\Desktop\\\\roads\\\\Project_Notebooks\\\\tvec.sav'\n",
    "pickle.dump(tvec, open(filename, 'wb'))"
   ]
  }
 ],
 "metadata": {
  "kernelspec": {
   "display_name": "Python 3",
   "language": "python",
   "name": "python3"
  },
  "language_info": {
   "codemirror_mode": {
    "name": "ipython",
    "version": 3
   },
   "file_extension": ".py",
   "mimetype": "text/x-python",
   "name": "python",
   "nbconvert_exporter": "python",
   "pygments_lexer": "ipython3",
   "version": "3.8.3"
  }
 },
 "nbformat": 4,
 "nbformat_minor": 2
}
